{
 "cells": [
  {
   "cell_type": "code",
   "execution_count": 4,
   "metadata": {},
   "outputs": [],
   "source": [
    "import numpy as np\n",
    "import matplotlib.pyplot as plt\n",
    "import torch\n",
    "import torch.nn as nn\n",
    "import torch.nn.functional as F\n",
    "from mmseg.models.losses.cross_entropy_loss import cross_entropy"
   ]
  },
  {
   "cell_type": "code",
   "execution_count": 5,
   "metadata": {},
   "outputs": [],
   "source": [
    "cam = np.load('/media/ders/mazhiming/mmseg4wsss/mmsegmentation/save_npy/cam.npy')\n",
    "depth_maps = np.load('/media/ders/mazhiming/mmseg4wsss/mmsegmentation/save_npy/depth_maps.npy')\n",
    "labels = np.load('/media/ders/mazhiming/mmseg4wsss/mmsegmentation/save_npy/label.npy')\n",
    "sal = np.load('/media/ders/mazhiming/mmseg4wsss/mmsegmentation/save_npy/sal.npy')"
   ]
  },
  {
   "cell_type": "code",
   "execution_count": 6,
   "metadata": {},
   "outputs": [],
   "source": [
    "cam_tensor = torch.from_numpy(cam)\n",
    "roll_cam_tensor = torch.roll(cam_tensor,shifts=1,dims=1)\n",
    "\n",
    "depth_maps_tensor = torch.from_numpy(depth_maps)\n",
    "labels_tensor = torch.from_numpy(labels)\n",
    "sal_tensor = torch.from_numpy(sal)\n",
    "b,h,w = labels.shape\n",
    "roll_cam_tensor = F.interpolate(roll_cam_tensor,size=(h,w),mode='bilinear',align_corners=True)"
   ]
  },
  {
   "cell_type": "code",
   "execution_count": 7,
   "metadata": {},
   "outputs": [
    {
     "data": {
      "text/plain": [
       "tensor(0.7968)"
      ]
     },
     "execution_count": 7,
     "metadata": {},
     "output_type": "execute_result"
    }
   ],
   "source": [
    "cam_labels_ce_loss = cross_entropy(roll_cam_tensor,labels_tensor,ignore_index=255)\n",
    "cam_labels_ce_loss"
   ]
  },
  {
   "cell_type": "code",
   "execution_count": 8,
   "metadata": {},
   "outputs": [],
   "source": [
    "# roll_cam_tensor.size()\n",
    "# >>> (8, 21, 448, 448)\n",
    "\n",
    "# labels_tensor.size()\n",
    "# >>> (8, 448, 448)\n",
    "\n",
    "# depth_maps_tensor.size()\n",
    "# >>> (8, 1, 448, 448)\n",
    "\n",
    "reshape_depth_maps_tensor = depth_maps_tensor.view(8,448,448)"
   ]
  },
  {
   "cell_type": "code",
   "execution_count": 9,
   "metadata": {},
   "outputs": [],
   "source": [
    "reshape_depth_maps_tensor = reshape_depth_maps_tensor.long()"
   ]
  },
  {
   "cell_type": "code",
   "execution_count": 10,
   "metadata": {},
   "outputs": [
    {
     "name": "stdout",
     "output_type": "stream",
     "text": [
      "tensor([  0,   1,   5,   7,  11,  14,  15, 255])\n",
      "\n",
      "tensor([  1,   2,   3,   4,   5,   6,   7,   8,   9,  10,  11,  13,  14,  15,\n",
      "         17,  18,  19,  20,  22,  23,  25,  26,  27,  29,  30,  32,  33,  34,\n",
      "         35,  37,  38,  39,  41,  42,  43,  44,  45,  47,  48,  49,  50,  51,\n",
      "         52,  53,  54,  55,  56,  57,  59,  60,  61,  62,  63,  64,  65,  66,\n",
      "         67,  68,  69,  71,  72,  73,  74,  75,  76,  77,  78,  79,  80,  81,\n",
      "         82,  83,  84,  85,  86,  87,  88,  89,  90,  91,  92,  93,  94,  95,\n",
      "         96,  97,  98,  99, 100, 101, 102, 103, 104, 105, 106, 107, 108, 109,\n",
      "        110, 111, 112, 113, 114, 115, 116, 117, 118, 119, 120, 121, 122, 123,\n",
      "        124, 125, 126, 127, 128, 129, 130, 131, 132, 133, 134, 135, 136, 137,\n",
      "        138, 139, 140, 141, 142, 143, 144, 145, 147, 148, 149, 150, 152, 153,\n",
      "        154, 156, 157, 158, 160, 161, 162, 164, 165, 166, 168, 169, 171, 172,\n",
      "        174, 175, 177, 178, 180, 181, 183, 185, 186, 188, 189, 191, 193, 195,\n",
      "        197, 199, 201, 203, 205, 207, 209, 211, 213, 215, 217, 219, 221, 223,\n",
      "        255])\n"
     ]
    }
   ],
   "source": [
    "# 提取labels_tensor的元素集合\n",
    "labels_tensor_set = torch.unique(labels_tensor)\n",
    "\n",
    "# 提取depth_maps_tensor的元素集合\n",
    "depth_maps_tensor_set = torch.unique(reshape_depth_maps_tensor)\n",
    "\n",
    "print(labels_tensor_set)\n",
    "print()\n",
    "print(depth_maps_tensor_set)"
   ]
  },
  {
   "cell_type": "code",
   "execution_count": 11,
   "metadata": {},
   "outputs": [
    {
     "name": "stderr",
     "output_type": "stream",
     "text": [
      "/media/soft/mzm/miniconda3/envs/wsss_mmseg/lib/python3.10/site-packages/sklearn/cluster/_kmeans.py:1412: FutureWarning: The default value of `n_init` will change from 10 to 'auto' in 1.4. Set the value of `n_init` explicitly to suppress the warning\n",
      "  super()._check_params_vs_input(X, default_n_init=10)\n"
     ]
    },
    {
     "ename": "ValueError",
     "evalue": "cannot reshape array of size 150080 into shape (448,448)",
     "output_type": "error",
     "traceback": [
      "\u001b[0;31m---------------------------------------------------------------------------\u001b[0m",
      "\u001b[0;31mValueError\u001b[0m                                Traceback (most recent call last)",
      "Cell \u001b[0;32mIn[11], line 36\u001b[0m\n\u001b[1;32m     33\u001b[0m df[\u001b[38;5;124m'\u001b[39m\u001b[38;5;124mlabel\u001b[39m\u001b[38;5;124m'\u001b[39m] \u001b[38;5;241m=\u001b[39m kmeans\u001b[38;5;241m.\u001b[39mlabels_\n\u001b[1;32m     35\u001b[0m \u001b[38;5;66;03m# step5. 将聚类结果转换为tensor\u001b[39;00m\n\u001b[0;32m---> 36\u001b[0m df_tensor \u001b[38;5;241m=\u001b[39m torch\u001b[38;5;241m.\u001b[39mfrom_numpy(\u001b[43mdf\u001b[49m\u001b[43m[\u001b[49m\u001b[38;5;124;43m'\u001b[39;49m\u001b[38;5;124;43mlabel\u001b[39;49m\u001b[38;5;124;43m'\u001b[39;49m\u001b[43m]\u001b[49m\u001b[38;5;241;43m.\u001b[39;49m\u001b[43mvalues\u001b[49m\u001b[38;5;241;43m.\u001b[39;49m\u001b[43mreshape\u001b[49m\u001b[43m(\u001b[49m\u001b[38;5;241;43m448\u001b[39;49m\u001b[43m,\u001b[49m\u001b[38;5;241;43m448\u001b[39;49m\u001b[43m)\u001b[49m)\n",
      "\u001b[0;31mValueError\u001b[0m: cannot reshape array of size 150080 into shape (448,448)"
     ]
    }
   ],
   "source": [
    "# 对depth做像素级聚类\n",
    "# step1. 提取每个像素点的信息，包括深度值和x,y坐标\n",
    "import pandas as pd\n",
    "data = {'depth':[],'x':[],'y':[]}\n",
    "for i in range(448):\n",
    "    for j in range(448):\n",
    "        depth = reshape_depth_maps_tensor[1][i][j]\n",
    "        x = i\n",
    "        y = j\n",
    "        data['depth'].append(depth)\n",
    "        data['x'].append(x)\n",
    "        data['y'].append(y)\n",
    "df = pd.DataFrame(data)\n",
    "\n",
    "# step2. 对每个像素点的深度值进行归一化\n",
    "from sklearn.preprocessing import MinMaxScaler\n",
    "scaler = MinMaxScaler()\n",
    "df['depth'] = scaler.fit_transform(df[['depth']])\n",
    "\n",
    "# step3. 对每个像素点的x,y坐标进行归一化\n",
    "from sklearn.preprocessing import StandardScaler\n",
    "scaler = StandardScaler()\n",
    "df[['x','y']] = scaler.fit_transform(df[['x','y']])\n",
    "\n",
    "# step3.1 增大深度值的权重\n",
    "df['depth'] = df['depth']*15\n",
    "\n",
    "# step4. 对每个像素点的信息进行聚类\n",
    "from sklearn.cluster import KMeans\n",
    "kmeans = KMeans(n_clusters=8,random_state=0).fit(df)\n",
    "df['label'] = kmeans.labels_\n",
    "\n",
    "# step5. 将聚类结果转换为tensor\n",
    "df_tensor = torch.from_numpy(df['label'].values.reshape(448,448))"
   ]
  },
  {
   "cell_type": "code",
   "execution_count": null,
   "metadata": {},
   "outputs": [
    {
     "data": {
      "text/plain": [
       "<matplotlib.image.AxesImage at 0x7f8303c95390>"
      ]
     },
     "execution_count": 23,
     "metadata": {},
     "output_type": "execute_result"
    },
    {
     "data": {
      "image/png": "[encoded data removed]",
      "text/plain": [
       "<Figure size 640x480 with 1 Axes>"
      ]
     },
     "metadata": {},
     "output_type": "display_data"
    }
   ],
   "source": [
    "# 可视化聚类结果\n",
    "import matplotlib.pyplot as plt\n",
    "plt.imshow(df_tensor)"
   ]
  },
  {
   "cell_type": "code",
   "execution_count": null,
   "metadata": {},
   "outputs": [
    {
     "ename": "IndexError",
     "evalue": "Target 80 is out of bounds.",
     "output_type": "error",
     "traceback": [
      "\u001b[0;31m---------------------------------------------------------------------------\u001b[0m",
      "\u001b[0;31mIndexError\u001b[0m                                Traceback (most recent call last)",
      "Cell \u001b[0;32mIn[8], line 1\u001b[0m\n\u001b[0;32m----> 1\u001b[0m cam_depth_maps_ce_loss \u001b[38;5;241m=\u001b[39m \u001b[43mcross_entropy\u001b[49m\u001b[43m(\u001b[49m\u001b[43mroll_cam_tensor\u001b[49m\u001b[43m,\u001b[49m\u001b[43mreshape_depth_maps_tensor\u001b[49m\u001b[43m,\u001b[49m\u001b[43mignore_index\u001b[49m\u001b[38;5;241;43m=\u001b[39;49m\u001b[38;5;241;43m255\u001b[39;49m\u001b[43m)\u001b[49m\n\u001b[1;32m      2\u001b[0m cam_depth_maps_ce_loss\n",
      "File \u001b[0;32m/media/ders/mazhiming/mmseg4wsss/mmsegmentation/mmseg/models/losses/cross_entropy_loss.py:47\u001b[0m, in \u001b[0;36mcross_entropy\u001b[0;34m(pred, label, weight, class_weight, reduction, avg_factor, ignore_index, avg_non_ignore)\u001b[0m\n\u001b[1;32m     22\u001b[0m \u001b[38;5;250m\u001b[39m\u001b[38;5;124;03m\"\"\"cross_entropy. The wrapper function for :func:`F.cross_entropy`\u001b[39;00m\n\u001b[1;32m     23\u001b[0m \n\u001b[1;32m     24\u001b[0m \u001b[38;5;124;03mArgs:\u001b[39;00m\n\u001b[0;32m   (...)\u001b[0m\n\u001b[1;32m     42\u001b[0m \u001b[38;5;124;03m        `New in version 0.23.0.`\u001b[39;00m\n\u001b[1;32m     43\u001b[0m \u001b[38;5;124;03m\"\"\"\u001b[39;00m\n\u001b[1;32m     44\u001b[0m \u001b[38;5;66;03m# pdb.set_trace()\u001b[39;00m\n\u001b[1;32m     45\u001b[0m \u001b[38;5;66;03m# class_weight is a manual rescaling weight given to each class.\u001b[39;00m\n\u001b[1;32m     46\u001b[0m \u001b[38;5;66;03m# If given, has to be a Tensor of size C element-wise losses\u001b[39;00m\n\u001b[0;32m---> 47\u001b[0m loss \u001b[38;5;241m=\u001b[39m \u001b[43mF\u001b[49m\u001b[38;5;241;43m.\u001b[39;49m\u001b[43mcross_entropy\u001b[49m\u001b[43m(\u001b[49m\n\u001b[1;32m     48\u001b[0m \u001b[43m    \u001b[49m\u001b[43mpred\u001b[49m\u001b[43m,\u001b[49m\n\u001b[1;32m     49\u001b[0m \u001b[43m    \u001b[49m\u001b[43mlabel\u001b[49m\u001b[43m,\u001b[49m\n\u001b[1;32m     50\u001b[0m \u001b[43m    \u001b[49m\u001b[43mweight\u001b[49m\u001b[38;5;241;43m=\u001b[39;49m\u001b[43mclass_weight\u001b[49m\u001b[43m,\u001b[49m\n\u001b[1;32m     51\u001b[0m \u001b[43m    \u001b[49m\u001b[43mreduction\u001b[49m\u001b[38;5;241;43m=\u001b[39;49m\u001b[38;5;124;43m'\u001b[39;49m\u001b[38;5;124;43mnone\u001b[39;49m\u001b[38;5;124;43m'\u001b[39;49m\u001b[43m,\u001b[49m\n\u001b[1;32m     52\u001b[0m \u001b[43m    \u001b[49m\u001b[43mignore_index\u001b[49m\u001b[38;5;241;43m=\u001b[39;49m\u001b[43mignore_index\u001b[49m\u001b[43m)\u001b[49m\n\u001b[1;32m     53\u001b[0m \u001b[38;5;66;03m# apply weights and do the reduction\u001b[39;00m\n\u001b[1;32m     54\u001b[0m \u001b[38;5;66;03m# average loss over non-ignored elements\u001b[39;00m\n\u001b[1;32m     55\u001b[0m \u001b[38;5;66;03m# pytorch's official cross_entropy average loss over non-ignored elements\u001b[39;00m\n\u001b[1;32m     56\u001b[0m \u001b[38;5;66;03m# refer to https://github.com/pytorch/pytorch/blob/56b43f4fec1f76953f15a627694d4bba34588969/torch/nn/functional.py#L2660  # noqa\u001b[39;00m\n\u001b[1;32m     57\u001b[0m \u001b[38;5;28;01mif\u001b[39;00m (avg_factor \u001b[38;5;129;01mis\u001b[39;00m \u001b[38;5;28;01mNone\u001b[39;00m) \u001b[38;5;129;01mand\u001b[39;00m reduction \u001b[38;5;241m==\u001b[39m \u001b[38;5;124m'\u001b[39m\u001b[38;5;124mmean\u001b[39m\u001b[38;5;124m'\u001b[39m:\n",
      "File \u001b[0;32m~/miniconda3/envs/wsss_mmseg/lib/python3.10/site-packages/torch/nn/functional.py:3026\u001b[0m, in \u001b[0;36mcross_entropy\u001b[0;34m(input, target, weight, size_average, ignore_index, reduce, reduction, label_smoothing)\u001b[0m\n\u001b[1;32m   3024\u001b[0m \u001b[38;5;28;01mif\u001b[39;00m size_average \u001b[38;5;129;01mis\u001b[39;00m \u001b[38;5;129;01mnot\u001b[39;00m \u001b[38;5;28;01mNone\u001b[39;00m \u001b[38;5;129;01mor\u001b[39;00m reduce \u001b[38;5;129;01mis\u001b[39;00m \u001b[38;5;129;01mnot\u001b[39;00m \u001b[38;5;28;01mNone\u001b[39;00m:\n\u001b[1;32m   3025\u001b[0m     reduction \u001b[38;5;241m=\u001b[39m _Reduction\u001b[38;5;241m.\u001b[39mlegacy_get_string(size_average, reduce)\n\u001b[0;32m-> 3026\u001b[0m \u001b[38;5;28;01mreturn\u001b[39;00m \u001b[43mtorch\u001b[49m\u001b[38;5;241;43m.\u001b[39;49m\u001b[43m_C\u001b[49m\u001b[38;5;241;43m.\u001b[39;49m\u001b[43m_nn\u001b[49m\u001b[38;5;241;43m.\u001b[39;49m\u001b[43mcross_entropy_loss\u001b[49m\u001b[43m(\u001b[49m\u001b[38;5;28;43minput\u001b[39;49m\u001b[43m,\u001b[49m\u001b[43m \u001b[49m\u001b[43mtarget\u001b[49m\u001b[43m,\u001b[49m\u001b[43m \u001b[49m\u001b[43mweight\u001b[49m\u001b[43m,\u001b[49m\u001b[43m \u001b[49m\u001b[43m_Reduction\u001b[49m\u001b[38;5;241;43m.\u001b[39;49m\u001b[43mget_enum\u001b[49m\u001b[43m(\u001b[49m\u001b[43mreduction\u001b[49m\u001b[43m)\u001b[49m\u001b[43m,\u001b[49m\u001b[43m \u001b[49m\u001b[43mignore_index\u001b[49m\u001b[43m,\u001b[49m\u001b[43m \u001b[49m\u001b[43mlabel_smoothing\u001b[49m\u001b[43m)\u001b[49m\n",
      "\u001b[0;31mIndexError\u001b[0m: Target 80 is out of bounds."
     ]
    }
   ],
   "source": [
    "cam_depth_maps_ce_loss = cross_entropy(roll_cam_tensor,reshape_depth_maps_tensor,ignore_index=255)\n",
    "cam_depth_maps_ce_loss"
   ]
  }
 ],
 "metadata": {
  "kernelspec": {
   "display_name": "wsss_mmseg",
   "language": "python",
   "name": "python3"
  },
  "language_info": {
   "codemirror_mode": {
    "name": "ipython",
    "version": 3
   },
   "file_extension": ".py",
   "mimetype": "text/x-python",
   "name": "python",
   "nbconvert_exporter": "python",
   "pygments_lexer": "ipython3",
   "version": "3.10.13"
  }
 },
 "nbformat": 4,
 "nbformat_minor": 2
}
