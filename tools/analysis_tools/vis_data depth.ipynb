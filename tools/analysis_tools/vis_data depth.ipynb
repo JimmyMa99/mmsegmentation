{
 "cells": [
  {
   "cell_type": "code",
   "execution_count": 1,
   "metadata": {},
   "outputs": [
    {
     "name": "stderr",
     "output_type": "stream",
     "text": [
      "/media/soft/mzm/miniconda3/envs/wsss_mmseg/lib/python3.10/site-packages/tqdm/auto.py:21: TqdmWarning: IProgress not found. Please update jupyter and ipywidgets. See https://ipywidgets.readthedocs.io/en/stable/user_install.html\n",
      "  from .autonotebook import tqdm as notebook_tqdm\n"
     ]
    }
   ],
   "source": [
    "# Copyright (c) OpenMMLab. All rights reserved.\n",
    "import random\n",
    "random.seed(0)\n",
    "import argparse\n",
    "import os.path as osp\n",
    "\n",
    "from mmengine.config import Config, DictAction\n",
    "from mmengine.utils import ProgressBar\n",
    "\n",
    "from mmseg.registry import DATASETS, VISUALIZERS\n",
    "from mmseg.utils import register_all_modules\n",
    "\n",
    "from mmseg.datasets.transforms import LoadAnnotations_SAL, RandomFlip, RandomCrop, PhotoMetricDistortion, PackSegInputs, LoadDepthAnnotation\n",
    "from mmcv.transforms import RandomResize,LoadImageFromFile\n",
    "from mmseg.utils.misc import stack_batch\n",
    "\n",
    "from mmseg.models.data_preprocessor import SegDataPreProcessor\n",
    "\n",
    "import numpy as np\n",
    "#直接把显著性图路径改成深度图了，后面变量名没改"
   ]
  },
  {
   "cell_type": "code",
   "execution_count": 2,
   "metadata": {},
   "outputs": [],
   "source": [
    "img_path = '/media/ders/mazhiming/mmseg4wsss/mmsegmentation/data/VOCdevkit/VOC2012/JPEGImages/2007_000032.jpg'\n",
    "gt_path = '/media/ders/mazhiming/mmseg4wsss/mmsegmentation/data/VOCdevkit/VOC2012/SegmentationClass/2007_000032.png'\n",
    "depth_path = '/media/ders/mazhiming/mmseg4wsss/mmsegmentation/data/VOCdevkit/VOC2012/depth_maps/2007_000032.png'\n",
    "sal_path = '/media/ders/mazhiming/mmseg4wsss/mmsegmentation/data/VOCdevkit/VOC2012/saliency_map/2007_000032.png'"
   ]
  },
  {
   "cell_type": "code",
   "execution_count": 3,
   "metadata": {},
   "outputs": [],
   "source": [
    "class Normalize:\n",
    "    def __init__(self, mean=(0.485, 0.456, 0.406), std=(0.229, 0.224, 0.225)):\n",
    "        self.mean = mean\n",
    "        self.std = std\n",
    "\n",
    "    def __call__(self, img):\n",
    "        img_arr = np.asarray(img)\n",
    "        normalized_img = np.empty_like(img_arr, np.float32)\n",
    "\n",
    "        normalized_img[..., 0] = (img_arr[..., 0] / 255. - self.mean[0]) / self.std[0]\n",
    "        normalized_img[..., 1] = (img_arr[..., 1] / 255. - self.mean[1]) / self.std[1]\n",
    "        normalized_img[..., 2] = (img_arr[..., 2] / 255. - self.mean[2]) / self.std[2]\n",
    "\n",
    "        return normalized_img"
   ]
  },
  {
   "cell_type": "code",
   "execution_count": 4,
   "metadata": {},
   "outputs": [],
   "source": [
    "randomCrop=RandomCrop(crop_size=(448,448),cat_max_ratio=0.75)\n",
    "randomFlip=RandomFlip(prob=0.5)\n",
    "randomResize=RandomResize(ratio_range=(1.0,1.0),scale=(256,512),keep_ratio=True)\n",
    "loadImg=LoadImageFromFile()\n",
    "loadAnn=LoadAnnotations_SAL()\n",
    "photoMetricDistortion=PhotoMetricDistortion(brightness_delta=77,contrast_range=(0.7,1.3),saturation_range=(0.7,1.3),hue_delta=26)#brightness_delta=77,contrast_range=(0.7,1.3),saturation_range=(0.7,1.3),hue_delta=0.1\n",
    "packSegInputs=PackSegInputs()\n",
    "normalize = Normalize()\n",
    "loaddepth=LoadDepthAnnotation()\n"
   ]
  },
  {
   "cell_type": "code",
   "execution_count": 5,
   "metadata": {},
   "outputs": [],
   "source": [
    "results = dict(\n",
    "    img_path=img_path,\n",
    "    seg_map_path=gt_path,\n",
    "    depth_map_path=depth_path,\n",
    "    sal_path=sal_path,\n",
    "    reduce_zero_label=False,\n",
    "    seg_fields=[])"
   ]
  },
  {
   "cell_type": "code",
   "execution_count": 6,
   "metadata": {},
   "outputs": [
    {
     "data": {
      "text/plain": [
       "{'img_path': '/media/ders/mazhiming/mmseg4wsss/mmsegmentation/data/VOCdevkit/VOC2012/JPEGImages/2007_000032.jpg',\n",
       " 'seg_map_path': '/media/ders/mazhiming/mmseg4wsss/mmsegmentation/data/VOCdevkit/VOC2012/SegmentationClass/2007_000032.png',\n",
       " 'depth_map_path': '/media/ders/mazhiming/mmseg4wsss/mmsegmentation/data/VOCdevkit/VOC2012/depth_maps/2007_000032.png',\n",
       " 'sal_path': '/media/ders/mazhiming/mmseg4wsss/mmsegmentation/data/VOCdevkit/VOC2012/saliency_map/2007_000032.png',\n",
       " 'reduce_zero_label': False,\n",
       " 'seg_fields': ['gt_seg_map', 'sal_map', 'gt_depth_map'],\n",
       " 'img': array([[[208, 193, 131],\n",
       "         [208, 193, 131],\n",
       "         [208, 193, 131],\n",
       "         ...,\n",
       "         [241, 232, 182],\n",
       "         [241, 232, 182],\n",
       "         [241, 232, 182]],\n",
       " \n",
       "        [[209, 194, 132],\n",
       "         [209, 194, 132],\n",
       "         [210, 195, 133],\n",
       "         ...,\n",
       "         [242, 233, 183],\n",
       "         [242, 233, 183],\n",
       "         [241, 232, 182]],\n",
       " \n",
       "        [[210, 195, 133],\n",
       "         [210, 195, 133],\n",
       "         [211, 196, 134],\n",
       "         ...,\n",
       "         [242, 233, 183],\n",
       "         [242, 233, 183],\n",
       "         [241, 232, 182]],\n",
       " \n",
       "        ...,\n",
       " \n",
       "        [[ 14,  15,   6],\n",
       "         [ 13,  14,   5],\n",
       "         [ 13,  13,   7],\n",
       "         ...,\n",
       "         [ 38,  34,  16],\n",
       "         [ 38,  34,  16],\n",
       "         [ 38,  34,  16]],\n",
       " \n",
       "        [[ 13,  14,   5],\n",
       "         [ 17,  18,   9],\n",
       "         [ 20,  17,  12],\n",
       "         ...,\n",
       "         [ 38,  34,  16],\n",
       "         [ 39,  35,  17],\n",
       "         [ 39,  35,  17]],\n",
       " \n",
       "        [[ 14,  15,   5],\n",
       "         [ 15,  16,   6],\n",
       "         [ 20,  18,  10],\n",
       "         ...,\n",
       "         [ 40,  33,  16],\n",
       "         [ 36,  29,  12],\n",
       "         [ 41,  34,  17]]], dtype=uint8),\n",
       " 'img_shape': (281, 500),\n",
       " 'ori_shape': (281, 500),\n",
       " 'gt_seg_map': array([[0, 0, 0, ..., 0, 0, 0],\n",
       "        [0, 0, 0, ..., 0, 0, 0],\n",
       "        [0, 0, 0, ..., 0, 0, 0],\n",
       "        ...,\n",
       "        [0, 0, 0, ..., 0, 0, 0],\n",
       "        [0, 0, 0, ..., 0, 0, 0],\n",
       "        [0, 0, 0, ..., 0, 0, 0]], dtype=uint8),\n",
       " 'sal_map': array([[0., 0., 0., ..., 0., 0., 0.],\n",
       "        [0., 0., 0., ..., 0., 0., 0.],\n",
       "        [0., 0., 0., ..., 0., 0., 0.],\n",
       "        ...,\n",
       "        [0., 0., 0., ..., 0., 0., 0.],\n",
       "        [0., 0., 0., ..., 0., 0., 0.],\n",
       "        [0., 0., 0., ..., 0., 0., 0.]], dtype=float32),\n",
       " 'gt_depth_map': array([[[  4.,   0.,   0.],\n",
       "         [  4.,   0.,   0.],\n",
       "         [  4.,   0.,   0.],\n",
       "         ...,\n",
       "         [  4.,   0.,   0.],\n",
       "         [  4.,   0.,   0.],\n",
       "         [  4.,   0.,   0.]],\n",
       " \n",
       "        [[  4.,   0.,   0.],\n",
       "         [  4.,   0.,   0.],\n",
       "         [  4.,   0.,   0.],\n",
       "         ...,\n",
       "         [  4.,   0.,   0.],\n",
       "         [  4.,   0.,   0.],\n",
       "         [  4.,   0.,   0.]],\n",
       " \n",
       "        [[  4.,   0.,   0.],\n",
       "         [  4.,   0.,   0.],\n",
       "         [  4.,   0.,   0.],\n",
       "         ...,\n",
       "         [  4.,   0.,   0.],\n",
       "         [  4.,   0.,   0.],\n",
       "         [  4.,   0.,   0.]],\n",
       " \n",
       "        ...,\n",
       " \n",
       "        [[ 86., 225., 244.],\n",
       "         [ 86., 225., 244.],\n",
       "         [ 86., 225., 244.],\n",
       "         ...,\n",
       "         [138., 246., 243.],\n",
       "         [138., 246., 243.],\n",
       "         [142., 248., 244.]],\n",
       " \n",
       "        [[ 90., 227., 243.],\n",
       "         [ 90., 227., 243.],\n",
       "         [ 90., 227., 243.],\n",
       "         ...,\n",
       "         [142., 248., 244.],\n",
       "         [142., 248., 244.],\n",
       "         [146., 249., 245.]],\n",
       " \n",
       "        [[ 58., 207., 248.],\n",
       "         [ 93., 229., 243.],\n",
       "         [ 97., 230., 242.],\n",
       "         ...,\n",
       "         [150., 250., 246.],\n",
       "         [154., 251., 248.],\n",
       "         [117., 239., 241.]]], dtype=float32),\n",
       " 'depth_rescale_factor': 1.0}"
      ]
     },
     "execution_count": 6,
     "metadata": {},
     "output_type": "execute_result"
    }
   ],
   "source": [
    "test_x=loadImg(results)\n",
    "test_x=loadAnn(test_x)\n",
    "test_x=loaddepth(test_x)\n",
    "test_x"
   ]
  },
  {
   "cell_type": "code",
   "execution_count": 7,
   "metadata": {},
   "outputs": [
    {
     "data": {
      "text/plain": [
       "array([[[  4.,   0.,   0.],\n",
       "        [  4.,   0.,   0.],\n",
       "        [  4.,   0.,   0.],\n",
       "        ...,\n",
       "        [  4.,   0.,   0.],\n",
       "        [  4.,   0.,   0.],\n",
       "        [  4.,   0.,   0.]],\n",
       "\n",
       "       [[  4.,   0.,   0.],\n",
       "        [  4.,   0.,   0.],\n",
       "        [  4.,   0.,   0.],\n",
       "        ...,\n",
       "        [  4.,   0.,   0.],\n",
       "        [  4.,   0.,   0.],\n",
       "        [  4.,   0.,   0.]],\n",
       "\n",
       "       [[  4.,   0.,   0.],\n",
       "        [  4.,   0.,   0.],\n",
       "        [  4.,   0.,   0.],\n",
       "        ...,\n",
       "        [  4.,   0.,   0.],\n",
       "        [  4.,   0.,   0.],\n",
       "        [  4.,   0.,   0.]],\n",
       "\n",
       "       ...,\n",
       "\n",
       "       [[ 86., 225., 244.],\n",
       "        [ 86., 225., 244.],\n",
       "        [ 86., 225., 244.],\n",
       "        ...,\n",
       "        [138., 246., 243.],\n",
       "        [138., 246., 243.],\n",
       "        [142., 248., 244.]],\n",
       "\n",
       "       [[ 90., 227., 243.],\n",
       "        [ 90., 227., 243.],\n",
       "        [ 90., 227., 243.],\n",
       "        ...,\n",
       "        [142., 248., 244.],\n",
       "        [142., 248., 244.],\n",
       "        [146., 249., 245.]],\n",
       "\n",
       "       [[ 58., 207., 248.],\n",
       "        [ 93., 229., 243.],\n",
       "        [ 97., 230., 242.],\n",
       "        ...,\n",
       "        [150., 250., 246.],\n",
       "        [154., 251., 248.],\n",
       "        [117., 239., 241.]]], dtype=float32)"
      ]
     },
     "execution_count": 7,
     "metadata": {},
     "output_type": "execute_result"
    }
   ],
   "source": [
    "test_x['gt_depth_map']"
   ]
  },
  {
   "cell_type": "code",
   "execution_count": null,
   "metadata": {},
   "outputs": [],
   "source": [
    "test_x=loadImg(results)\n",
    "test_x=loadAnn(test_x)\n",
    "print(test_x['img'].shape,test_x['deepth_map'].shape)\n",
    "\n"
   ]
  },
  {
   "cell_type": "code",
   "execution_count": null,
   "metadata": {},
   "outputs": [],
   "source": [
    "test_x=randomResize(test_x)\n",
    "print(test_x['img'].shape,test_x['sal_map'].shape,test_x['gt_seg_map'].shape)"
   ]
  },
  {
   "cell_type": "code",
   "execution_count": null,
   "metadata": {},
   "outputs": [],
   "source": [
    "print(test_x['img'].shape,test_x['sal_map'].shape,test_x['gt_seg_map'].shape)"
   ]
  },
  {
   "cell_type": "code",
   "execution_count": null,
   "metadata": {},
   "outputs": [],
   "source": [
    "import matplotlib.pyplot as plt\n",
    "plt.imshow(test_x['img'], cmap='gray',)"
   ]
  },
  {
   "cell_type": "code",
   "execution_count": null,
   "metadata": {},
   "outputs": [],
   "source": [
    "plt.imshow(test_x['sal_map'], cmap='gray',)"
   ]
  },
  {
   "cell_type": "code",
   "execution_count": null,
   "metadata": {},
   "outputs": [],
   "source": [
    "test_x=randomFlip(test_x)\n",
    "# print(test_x['img'].shape,test_x['sal_map'].shape)"
   ]
  },
  {
   "cell_type": "code",
   "execution_count": null,
   "metadata": {},
   "outputs": [],
   "source": [
    "print(test_x['img'].shape,test_x['sal_map'].shape)"
   ]
  },
  {
   "cell_type": "code",
   "execution_count": null,
   "metadata": {},
   "outputs": [],
   "source": [
    "test_x=photoMetricDistortion(test_x)\n",
    "print(test_x['img'].shape,test_x['sal_map'].shape)"
   ]
  },
  {
   "cell_type": "code",
   "execution_count": null,
   "metadata": {},
   "outputs": [],
   "source": [
    "test_x=randomCrop(test_x)\n",
    "print(test_x['img'].shape,test_x['sal_map'].shape)"
   ]
  },
  {
   "cell_type": "code",
   "execution_count": null,
   "metadata": {},
   "outputs": [],
   "source": [
    "test_x"
   ]
  },
  {
   "cell_type": "code",
   "execution_count": null,
   "metadata": {},
   "outputs": [],
   "source": [
    "test_x=packSegInputs(test_x)\n",
    "# print(test_x['input'].shape,test_x['sal_map'].shape)"
   ]
  },
  {
   "cell_type": "code",
   "execution_count": null,
   "metadata": {},
   "outputs": [],
   "source": [
    "print(test_x['inputs'].shape,test_x['data_samples'].sal_map.data.shape)\n",
    "segDataPpreprocessor=SegDataPreProcessor(bgr_to_rgb=True,\n",
    "    mean=[\n",
    "        123.675,\n",
    "        116.28,\n",
    "        103.53,\n",
    "    ],\n",
    "    pad_val=0,\n",
    "    seg_pad_val=255,\n",
    "    size=(\n",
    "        448,\n",
    "        448,\n",
    "    ),\n",
    "    std=[\n",
    "        58.395,\n",
    "        57.12,\n",
    "        57.375,\n",
    "    ],)"
   ]
  },
  {
   "cell_type": "code",
   "execution_count": null,
   "metadata": {},
   "outputs": [],
   "source": [
    "test_x['inputs']=[test_x['inputs']]\n",
    "test_x['data_samples']=[test_x['data_samples']]\n",
    "test_x=segDataPpreprocessor(test_x,training=True)"
   ]
  },
  {
   "cell_type": "code",
   "execution_count": null,
   "metadata": {},
   "outputs": [],
   "source": [
    "print(test_x['inputs'].shape,test_x['data_samples'][0].sal_map.data.shape)"
   ]
  },
  {
   "cell_type": "code",
   "execution_count": null,
   "metadata": {},
   "outputs": [],
   "source": [
    "def transform_img(results):\n",
    "    x=loadImg(results)\n",
    "    x=loadAnn(x)\n",
    "    print('--------load-------------------')\n",
    "    print(x['img'].shape,x['sal_map'].shape)\n",
    "    x=randomResize(x)\n",
    "    print('--------resize-------------------')\n",
    "    print(x['img'].shape,x['sal_map'].shape)\n",
    "    x=randomFlip(x)\n",
    "    print('--------flip-------------------')\n",
    "    print(x['img'].shape,x['sal_map'].shape)\n",
    "    x=photoMetricDistortion(x)#jetter\n",
    "    print('--------jetter-------------------')\n",
    "    print(x['img'].shape,x['sal_map'].shape)\n",
    "    x=randomCrop(x)\n",
    "    print('--------crop-------------------')\n",
    "    print(x['img'].shape,x['sal_map'].shape)\n",
    "    x=packSegInputs(x)\n",
    "    print('--------pack-------------------')\n",
    "    print(x['inputs'].shape,x['data_samples'].sal_map.data.shape)\n",
    "    return x"
   ]
  },
  {
   "cell_type": "code",
   "execution_count": null,
   "metadata": {},
   "outputs": [],
   "source": [
    "results = dict(\n",
    "    img_path=img_path,\n",
    "    seg_map_path=gt_path,\n",
    "    sal_path=sal_path,\n",
    "    reduce_zero_label=False,\n",
    "    seg_fields=[])\n",
    "x=transform_img(results)"
   ]
  },
  {
   "cell_type": "code",
   "execution_count": null,
   "metadata": {},
   "outputs": [],
   "source": [
    "# x['data_samples'].gt_sem_seg.data"
   ]
  },
  {
   "cell_type": "code",
   "execution_count": null,
   "metadata": {},
   "outputs": [],
   "source": [
    "# x['data_samples']"
   ]
  },
  {
   "cell_type": "code",
   "execution_count": null,
   "metadata": {},
   "outputs": [],
   "source": [
    "x['data_samples'].sal_map.data.size()"
   ]
  },
  {
   "cell_type": "code",
   "execution_count": null,
   "metadata": {},
   "outputs": [],
   "source": [
    "x['inputs'].size()"
   ]
  },
  {
   "cell_type": "code",
   "execution_count": null,
   "metadata": {},
   "outputs": [],
   "source": [
    "import matplotlib.pyplot as plt\n",
    "import torch\n",
    "img_or=plt.imread(img_path)\n",
    "plt.imshow(img_or)"
   ]
  },
  {
   "cell_type": "code",
   "execution_count": null,
   "metadata": {},
   "outputs": [],
   "source": [
    "# normalize = Normalize()\n",
    "# x['inputs'] = normalize(x['inputs'])\n",
    "plt.imshow(x['inputs'].numpy().transpose(1,2,0)[...,::-1])\n",
    "x['inputs'].shape"
   ]
  },
  {
   "cell_type": "code",
   "execution_count": null,
   "metadata": {},
   "outputs": [],
   "source": [
    "plt.imshow(x['data_samples'].sal_map.data.numpy().transpose(1,2,0)*255)\n",
    "x['data_samples'].sal_map.data.shape"
   ]
  },
  {
   "cell_type": "markdown",
   "metadata": {},
   "source": [
    "#stack_batch func"
   ]
  },
  {
   "cell_type": "code",
   "execution_count": null,
   "metadata": {},
   "outputs": [],
   "source": [
    "mean=[123.675, 116.28, 103.53]\n",
    "std=[58.395, 57.12, 57.375]\n",
    "pad_val=0\n",
    "seg_pad_val=255\n",
    "size=(448,448)\n",
    "type='SegDataPreProcessor'\n",
    "dataSamples=x['data_samples']\n",
    "inputs=x['inputs']"
   ]
  },
  {
   "cell_type": "code",
   "execution_count": null,
   "metadata": {},
   "outputs": [],
   "source": [
    "# outputdata,padded_samples=stack_batch(inputs=[inputs], data_samples=[dataSamples],  size=size)"
   ]
  },
  {
   "cell_type": "code",
   "execution_count": null,
   "metadata": {},
   "outputs": [],
   "source": [
    "# outputdata.max()"
   ]
  },
  {
   "cell_type": "code",
   "execution_count": null,
   "metadata": {},
   "outputs": [],
   "source": [
    "# plt.imshow(outputdata[0].numpy().transpose(1,2,0))\n",
    "# outputdata.shape"
   ]
  },
  {
   "cell_type": "code",
   "execution_count": null,
   "metadata": {},
   "outputs": [],
   "source": [
    "# padded_samples[0].sal_map.data.size()\n",
    "# plt.imshow(padded_samples[0].sal_map.data.numpy().transpose(1,2,0))"
   ]
  },
  {
   "cell_type": "code",
   "execution_count": null,
   "metadata": {},
   "outputs": [],
   "source": [
    "# padded_samples[0].sal_map.data.max()\n",
    "# "
   ]
  },
  {
   "cell_type": "code",
   "execution_count": null,
   "metadata": {},
   "outputs": [],
   "source": [
    "segDataPpreprocessor=SegDataPreProcessor(bgr_to_rgb=True,\n",
    "    mean=[\n",
    "        123.675,\n",
    "        116.28,\n",
    "        103.53,\n",
    "    ],\n",
    "    pad_val=0,\n",
    "    seg_pad_val=255,\n",
    "    size=(\n",
    "        448,\n",
    "        448,\n",
    "    ),\n",
    "    std=[\n",
    "        58.395,\n",
    "        57.12,\n",
    "        57.375,\n",
    "    ],)"
   ]
  },
  {
   "cell_type": "code",
   "execution_count": null,
   "metadata": {},
   "outputs": [],
   "source": [
    "x['data_samples'].gt_sem_seg.data"
   ]
  },
  {
   "cell_type": "code",
   "execution_count": null,
   "metadata": {},
   "outputs": [],
   "source": [
    "x['inputs']=[x['inputs']]\n",
    "x['data_samples']=[x['data_samples']]"
   ]
  },
  {
   "cell_type": "code",
   "execution_count": null,
   "metadata": {},
   "outputs": [],
   "source": [
    "input_of_model=segDataPpreprocessor(x,training=True)"
   ]
  },
  {
   "cell_type": "code",
   "execution_count": null,
   "metadata": {},
   "outputs": [],
   "source": [
    "input_of_model['inputs'].shape"
   ]
  },
  {
   "cell_type": "code",
   "execution_count": null,
   "metadata": {},
   "outputs": [],
   "source": [
    "# input_of_model['inputs']"
   ]
  },
  {
   "cell_type": "code",
   "execution_count": null,
   "metadata": {},
   "outputs": [],
   "source": [
    "plt.imshow(input_of_model['inputs'][0].numpy().transpose(1,2,0))"
   ]
  },
  {
   "cell_type": "code",
   "execution_count": null,
   "metadata": {},
   "outputs": [],
   "source": [
    "input_of_model['data_samples'][0].sal_map.data.shape"
   ]
  },
  {
   "cell_type": "code",
   "execution_count": null,
   "metadata": {},
   "outputs": [],
   "source": [
    "# input_of_model['data_samples'].sal_map.data.size()\n",
    "show_sal=input_of_model['data_samples'][0].sal_map.data.numpy().transpose(1,2,0)*255\n",
    "plt.imshow(show_sal)"
   ]
  },
  {
   "cell_type": "code",
   "execution_count": null,
   "metadata": {},
   "outputs": [],
   "source": [
    "input_of_model['data_samples'][0].sal_map.data.numpy()\n",
    "show_sal=input_of_model['data_samples'][0].sal_map.data.numpy().transpose(1,2,0)\n",
    "show_sal.shape"
   ]
  },
  {
   "cell_type": "code",
   "execution_count": null,
   "metadata": {},
   "outputs": [],
   "source": [
    "import numpy as np\n",
    "\n",
    "# 假设 sal_map 是 saliency map，inputs 是原始图像\n",
    "sal_map = input_of_model['data_samples'][0].sal_map.data.numpy().transpose(1, 2, 0) * 255\n",
    "original_image = input_of_model['inputs'][0].numpy().transpose(1, 2, 0)\n",
    "\n",
    "sal_map = np.array(sal_map, dtype=np.uint8)\n",
    "original_image = np.array(original_image, dtype=np.uint8)\n",
    "\n",
    "# 生成热力图\n",
    "import cv2\n",
    "heatmap = cv2.applyColorMap(sal_map, cv2.COLORMAP_JET)\n",
    "heatmap = cv2.cvtColor(heatmap, cv2.COLOR_BGR2RGB)\n",
    "\n",
    "original_image = cv2.cvtColor(original_image, cv2.COLOR_BGR2RGB)\n",
    "# heatmap_repeated = np.repeat(heatmap, 3, axis=2)\n",
    "\n",
    "print(heatmap.shape, original_image.shape)"
   ]
  },
  {
   "cell_type": "code",
   "execution_count": null,
   "metadata": {},
   "outputs": [],
   "source": [
    "import numpy as np\n",
    "import os\n",
    "os.environ[\"KMP_DUPLICATE_LIB_OK\"]=\"TRUE\"\n",
    "# 假设 sal_map 是 saliency map，inputs 是原始图像\n",
    "sal_map = input_of_model['data_samples'][0].sal_map.data.numpy().transpose(1, 2, 0) * 255\n",
    "original_image = input_of_model['inputs'][0].numpy().transpose(1, 2, 0)\n",
    "\n",
    "sal_map = np.array(sal_map, dtype=np.uint8)\n",
    "original_image = np.array(original_image, dtype=np.uint8)\n",
    "\n",
    "# 生成热力图\n",
    "import cv2\n",
    "heatmap = cv2.applyColorMap(sal_map, cv2.COLORMAP_JET)\n",
    "heatmap = cv2.cvtColor(heatmap, cv2.COLOR_BGR2RGB)\n",
    "\n",
    "original_image = cv2.cvtColor(original_image, cv2.COLOR_BGR2RGB)\n",
    "# heatmap_repeated = np.repeat(heatmap, 3, axis=2)\n",
    "map=cv2.addWeighted(heatmap, 0.4, original_image, 0.6, 0)\n",
    "\n",
    "plt.imshow(map)\n",
    "\n",
    "\n"
   ]
  },
  {
   "cell_type": "code",
   "execution_count": null,
   "metadata": {},
   "outputs": [],
   "source": [
    "# plt.imsave('sal.png',show_sal)\n",
    "# plt.imsave('sal.png',data_sample.sal_map.datadata_sample.sal_map.data)\n",
    "# import matplotlib.pyplot as plt\n",
    "# plt.imsave('sal.png',np.repeat(data_sample.sal_map.data.cpu().numpy().transpose(1,2,0),3,axis=-1))"
   ]
  },
  {
   "cell_type": "code",
   "execution_count": null,
   "metadata": {},
   "outputs": [],
   "source": [
    "# pad_img\n",
    "# show_sal=pad_img.data.cpu().numpy().transpose(1,2,0)\n",
    "# plt.imsave('img.png',pad_img.data.cpu().numpy().transpose(1,2,0).astype(np.uint8))\n",
    "# plt.imsave('img.png',pad_img.data.cpu().numpy().transpose(1,2,0).astype(np.uint8)*255)"
   ]
  },
  {
   "cell_type": "code",
   "execution_count": null,
   "metadata": {},
   "outputs": [],
   "source": [
    "#vis backbone"
   ]
  },
  {
   "cell_type": "code",
   "execution_count": null,
   "metadata": {},
   "outputs": [],
   "source": [
    "from mmseg.models.backbones.resnet38d import WideRes38"
   ]
  },
  {
   "cell_type": "code",
   "execution_count": null,
   "metadata": {},
   "outputs": [],
   "source": [
    "res38=WideRes38()"
   ]
  },
  {
   "cell_type": "code",
   "execution_count": null,
   "metadata": {},
   "outputs": [],
   "source": [
    "parameter_groups=res38.get_parameter_groups()"
   ]
  },
  {
   "cell_type": "code",
   "execution_count": null,
   "metadata": {},
   "outputs": [],
   "source": [
    "len(parameter_groups)"
   ]
  },
  {
   "cell_type": "code",
   "execution_count": null,
   "metadata": {},
   "outputs": [],
   "source": [
    "parameter_groups[0][0]"
   ]
  },
  {
   "cell_type": "code",
   "execution_count": null,
   "metadata": {},
   "outputs": [],
   "source": [
    "backbone.conv1a,\n",
    "backbone.b2.conv_branch2a,\n",
    "backbone.b2.conv_branch2b1,\n",
    "backbone.b2.conv_branch1,\n",
    "backbone.b2_1.conv_branch2a,\n",
    "backbone.b2_1.conv_branch2b1,\n",
    "backbone.b2_2.conv_branch2a,\n",
    "backbone.b2_2.conv_branch2b1,\n",
    "backbone.b3.conv_branch2a,\n",
    "backbone.b3.conv_branch2b1,\n",
    "backbone.b3.conv_branch1,\n",
    "backbone.b3_1.conv_branch2a,\n",
    "backbone.b3_1.conv_branch2b1,\n",
    "backbone.b3_2.conv_branch2a,\n",
    "backbone.b3_2.conv_branch2b1,\n",
    "backbone.b4.conv_branch2a,\n",
    "backbone.b4.conv_branch2b1,\n",
    "backbone.b4.conv_branch1,\n",
    "backbone.b4_1.conv_branch2a,\n",
    "backbone.b4_1.conv_branch2b1\n",
    "backbone.b4_2.conv_branch2a\n",
    "backbone.b4_2.conv_branch2b1\n",
    "backbone.b4_3.conv_branch2a\n",
    "backbone.b4_3.conv_branch2b1\n",
    "backbone.b4_4.conv_branch2a\n",
    "backbone.b4_4.conv_branch2b1\n",
    "backbone.b4_5.conv_branch2a\n",
    "backbone.b4_5.conv_branch2b1\n",
    "backbone.b5.conv_branch2a\n",
    "backbone.b5.conv_branch2b1\n",
    "backbone.b5.conv_branch1\n",
    "backbone.b5_1.conv_branch2a\n",
    "backbone.b5_1.conv_branch2b1\n",
    "backbone.b5_2.conv_branch2a\n",
    "backbone.b5_2.conv_branch2b1\n",
    "backbone.b6.conv_branch2a\n",
    "backbone.b6.conv_branch2b1\n",
    "backbone.b6.conv_branch2b2\n",
    "backbone.b6.conv_branch1\n",
    "backbone.b7.conv_branch2a\n",
    "backbone.b7.conv_branch2b1\n",
    "backbone.b7.conv_branch2b2\n",
    "backbone.b7.conv_branch1\n"
   ]
  },
  {
   "cell_type": "code",
   "execution_count": null,
   "metadata": {},
   "outputs": [],
   "source": [
    "backbone_layers = [\n",
    "    'backbone.conv1a',\n",
    "    'backbone.b2.conv_branch2a',\n",
    "    'backbone.b2.conv_branch2b1',\n",
    "    'backbone.b2.conv_branch1',\n",
    "    'backbone.b2_1.conv_branch2a',\n",
    "    'backbone.b2_1.conv_branch2b1',\n",
    "    'backbone.b2_2.conv_branch2a',\n",
    "    'backbone.b2_2.conv_branch2b1',\n",
    "    'backbone.b3.conv_branch2a',\n",
    "    'backbone.b3.conv_branch2b1',\n",
    "    'backbone.b3.conv_branch1',\n",
    "    'backbone.b3_1.conv_branch2a',\n",
    "    'backbone.b3_1.conv_branch2b1',\n",
    "    'backbone.b3_2.conv_branch2a',\n",
    "    'backbone.b3_2.conv_branch2b1',\n",
    "    'backbone.b4.conv_branch2a',\n",
    "    'backbone.b4.conv_branch2b1',\n",
    "    'backbone.b4.conv_branch1',\n",
    "    'backbone.b4_1.conv_branch2a',\n",
    "    'backbone.b4_1.conv_branch2b1',\n",
    "    'backbone.b4_2.conv_branch2a',\n",
    "    'backbone.b4_2.conv_branch2b1',\n",
    "    'backbone.b4_3.conv_branch2a',\n",
    "    'backbone.b4_3.conv_branch2b1',\n",
    "    'backbone.b4_4.conv_branch2a',\n",
    "    'backbone.b4_4.conv_branch2b1',\n",
    "    'backbone.b4_5.conv_branch2a',\n",
    "    'backbone.b4_5.conv_branch2b1',\n",
    "    'backbone.b5.conv_branch2a',\n",
    "    'backbone.b5.conv_branch2b1',\n",
    "    'backbone.b5.conv_branch1',\n",
    "    'backbone.b5_1.conv_branch2a',\n",
    "    'backbone.b5_1.conv_branch2b1',\n",
    "    'backbone.b5_2.conv_branch2a',\n",
    "    'backbone.b5_2.conv_branch2b1',\n",
    "    'backbone.b6.conv_branch2a',\n",
    "    'backbone.b6.conv_branch2b1',\n",
    "    'backbone.b6.conv_branch2b2',\n",
    "    'backbone.b6.conv_branch1',\n",
    "    'backbone.b7.conv_branch2a',\n",
    "    'backbone.b7.conv_branch2b1',\n",
    "    'backbone.b7.conv_branch2b2',\n",
    "    'backbone.b7.conv_branch1'\n",
    "]"
   ]
  },
  {
   "cell_type": "code",
   "execution_count": null,
   "metadata": {},
   "outputs": [],
   "source": []
  }
 ],
 "metadata": {
  "kernelspec": {
   "display_name": "wsss_mmseg",
   "language": "python",
   "name": "python3"
  },
  "language_info": {
   "codemirror_mode": {
    "name": "ipython",
    "version": 3
   },
   "file_extension": ".py",
   "mimetype": "text/x-python",
   "name": "python",
   "nbconvert_exporter": "python",
   "pygments_lexer": "ipython3",
   "version": "3.10.13"
  }
 },
 "nbformat": 4,
 "nbformat_minor": 2
}
