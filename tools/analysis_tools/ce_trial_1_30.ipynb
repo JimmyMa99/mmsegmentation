{
 "cells": [
  {
   "cell_type": "code",
   "execution_count": 3,
   "id": "e41826c4",
   "metadata": {},
   "outputs": [],
   "source": [
    "import torch\n",
    "import torch.nn.functional as F"
   ]
  },
  {
   "cell_type": "code",
   "execution_count": 2,
   "id": "4fc277dc",
   "metadata": {},
   "outputs": [
    {
     "name": "stdout",
     "output_type": "stream",
     "text": [
      "tensor([[[0, 1, 1],\n",
      "         [1, 0, 1],\n",
      "         [1, 1, 1]]])\n",
      "tensor([[[[0.4860, 0.4114, 0.1182],\n",
      "          [0.8759, 0.5157, 0.8735],\n",
      "          [0.3243, 0.9917, 0.1474]],\n",
      "\n",
      "         [[0.3969, 0.4924, 0.6625],\n",
      "          [0.4826, 0.3024, 0.3025],\n",
      "          [0.1163, 0.1323, 0.4763]]]])\n"
     ]
    }
   ],
   "source": [
    "input = torch.rand([1, 2, 3, 3])\n",
    "import numpy as np\n",
    "target = np.random.randint(2, size=(1, 3, 3))\n",
    "target = torch.from_numpy(target)\n",
    "target = target.long()\n",
    "print(target)\n",
    "print(input)"
   ]
  },
  {
   "cell_type": "code",
   "execution_count": 4,
   "id": "65b19c08",
   "metadata": {},
   "outputs": [
    {
     "name": "stdout",
     "output_type": "stream",
     "text": [
      "tensor(0.7598)\n"
     ]
    }
   ],
   "source": [
    "loss = F.cross_entropy(input, target)\n",
    "print(loss)"
   ]
  },
  {
   "cell_type": "code",
   "execution_count": 5,
   "id": "6b39a422",
   "metadata": {},
   "outputs": [
    {
     "name": "stdout",
     "output_type": "stream",
     "text": [
      "tensor(0.7598)\n"
     ]
    }
   ],
   "source": [
    "input = F.softmax(input, dim=1)\n",
    "loss = 0.0\n",
    "for b in range(target.shape[0]):\n",
    "    for i in range(target.shape[1]):\n",
    "        for j in range(target.shape[2]):\n",
    "            loss -= torch.log(input[b][target[b][i][j]][i][j])\n",
    "# 求均值\n",
    "print(loss/9)  "
   ]
  }
 ],
 "metadata": {
  "kernelspec": {
   "display_name": "Python 3 (ipykernel)",
   "language": "python",
   "name": "python3"
  },
  "language_info": {
   "codemirror_mode": {
    "name": "ipython",
    "version": 3
   },
   "file_extension": ".py",
   "mimetype": "text/x-python",
   "name": "python",
   "nbconvert_exporter": "python",
   "pygments_lexer": "ipython3",
   "version": "3.10.13"
  },
  "toc": {
   "base_numbering": 1,
   "nav_menu": {},
   "number_sections": true,
   "sideBar": true,
   "skip_h1_title": false,
   "title_cell": "Table of Contents",
   "title_sidebar": "Contents",
   "toc_cell": false,
   "toc_position": {},
   "toc_section_display": true,
   "toc_window_display": false
  }
 },
 "nbformat": 4,
 "nbformat_minor": 5
}
